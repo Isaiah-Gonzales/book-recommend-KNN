{
  "cells": [
    {
      "cell_type": "markdown",
      "metadata": {
        "id": "view-in-github",
        "colab_type": "text"
      },
      "source": [
        "<a href=\"https://colab.research.google.com/github/Isaiah-Gonzales/book-recommend-KNN/blob/main/IG_fcc_book_recommendation_knn.ipynb\" target=\"_parent\"><img src=\"https://colab.research.google.com/assets/colab-badge.svg\" alt=\"Open In Colab\"/></a>"
      ]
    },
    {
      "cell_type": "code",
      "execution_count": null,
      "metadata": {
        "id": "Y1onB6kUvo4Z"
      },
      "outputs": [],
      "source": [
        "# import libraries (you may add additional imports but you may not have to)\n",
        "import numpy as np\n",
        "import pandas as pd\n",
        "from scipy.sparse import csr_matrix\n",
        "from sklearn.neighbors import NearestNeighbors\n",
        "import matplotlib.pyplot as plt"
      ]
    },
    {
      "cell_type": "code",
      "execution_count": null,
      "metadata": {
        "id": "iAQGqqO_vo4d",
        "colab": {
          "base_uri": "https://localhost:8080/"
        },
        "outputId": "91faea2d-fcb4-4135-dcc5-b03563a31392"
      },
      "outputs": [
        {
          "output_type": "stream",
          "name": "stdout",
          "text": [
            "--2023-10-02 04:54:59--  https://cdn.freecodecamp.org/project-data/books/book-crossings.zip\n",
            "Resolving cdn.freecodecamp.org (cdn.freecodecamp.org)... 104.26.2.33, 172.67.70.149, 104.26.3.33, ...\n",
            "Connecting to cdn.freecodecamp.org (cdn.freecodecamp.org)|104.26.2.33|:443... connected.\n",
            "HTTP request sent, awaiting response... 200 OK\n",
            "Length: 26085508 (25M) [application/zip]\n",
            "Saving to: ‘book-crossings.zip.1’\n",
            "\n",
            "book-crossings.zip. 100%[===================>]  24.88M   115MB/s    in 0.2s    \n",
            "\n",
            "2023-10-02 04:54:59 (115 MB/s) - ‘book-crossings.zip.1’ saved [26085508/26085508]\n",
            "\n",
            "Archive:  book-crossings.zip\n",
            "replace BX-Book-Ratings.csv? [y]es, [n]o, [A]ll, [N]one, [r]ename: A\n",
            "  inflating: BX-Book-Ratings.csv     \n",
            "  inflating: BX-Books.csv            \n",
            "  inflating: BX-Users.csv            \n"
          ]
        }
      ],
      "source": [
        "# get data files\n",
        "!wget https://cdn.freecodecamp.org/project-data/books/book-crossings.zip\n",
        "\n",
        "!unzip book-crossings.zip\n",
        "\n",
        "books_filename = 'BX-Books.csv'\n",
        "ratings_filename = 'BX-Book-Ratings.csv'"
      ]
    },
    {
      "cell_type": "code",
      "execution_count": null,
      "metadata": {
        "id": "NClILWOiEd6Q"
      },
      "outputs": [],
      "source": [
        "# import csv data into dataframes\n",
        "df_books = pd.read_csv(\n",
        "    books_filename,\n",
        "    encoding = \"ISO-8859-1\",\n",
        "    sep=\";\",\n",
        "    header=0,\n",
        "    names=['isbn', 'title', 'author'],\n",
        "    usecols=['isbn', 'title', 'author'],\n",
        "    dtype={'isbn': 'str', 'title': 'str', 'author': 'str'})\n",
        "\n",
        "df_ratings = pd.read_csv(\n",
        "    ratings_filename,\n",
        "    encoding = \"ISO-8859-1\",\n",
        "    sep=\";\",\n",
        "    header=0,\n",
        "    names=['user', 'isbn', 'rating'],\n",
        "    usecols=['user', 'isbn', 'rating'],\n",
        "    dtype={'user': 'int32', 'isbn': 'str', 'rating': 'float32'})"
      ]
    },
    {
      "cell_type": "code",
      "source": [
        "#clean data, users with only 200 or more ratings\n",
        "df_ratings['isbn_freq'] = df_ratings['isbn'].map(df_ratings['isbn'].value_counts())\n",
        "df_ratings['user_freq'] = df_ratings['user'].map(df_ratings['user'].value_counts())\n",
        "\n",
        "print(df_ratings.head())\n",
        "\n",
        "df_clean = df_ratings[\n",
        "    (df_ratings['isbn_freq'] >= 100) &\n",
        "    (df_ratings['user_freq'] >= 200)]\n",
        "\n",
        "print(df_clean)"
      ],
      "metadata": {
        "colab": {
          "base_uri": "https://localhost:8080/"
        },
        "id": "PhmbcS3WR8Ts",
        "outputId": "d49fe817-07a3-4c15-b4b8-47136aa7891e"
      },
      "execution_count": null,
      "outputs": [
        {
          "output_type": "stream",
          "name": "stdout",
          "text": [
            "     user        isbn  rating  isbn_freq  user_freq\n",
            "0  276725  034545104X     0.0         60          1\n",
            "1  276726  0155061224     5.0          2          1\n",
            "2  276727  0446520802     0.0        116          1\n",
            "3  276729  052165615X     3.0          1          2\n",
            "4  276729  0521795028     6.0          1          2\n",
            "           user        isbn  rating  isbn_freq  user_freq\n",
            "1456     277427  002542730X    10.0        171        497\n",
            "1469     277427  0060930535     0.0        494        497\n",
            "1471     277427  0060934417     0.0        350        497\n",
            "1474     277427  0061009059     9.0        291        497\n",
            "1484     277427  0140067477     0.0        189        497\n",
            "...         ...         ...     ...        ...        ...\n",
            "1147304  275970  0804111359     0.0        167       1376\n",
            "1147436  275970  140003065X     0.0        157       1376\n",
            "1147439  275970  1400031346     0.0        106       1376\n",
            "1147440  275970  1400031354     0.0        202       1376\n",
            "1147441  275970  1400031362     0.0        128       1376\n",
            "\n",
            "[49781 rows x 5 columns]\n"
          ]
        }
      ]
    },
    {
      "cell_type": "code",
      "source": [
        "#verify cleaning process went correctly\n",
        "print(df_clean['isbn_freq'].min())\n",
        "print(df_clean['user_freq'].min())"
      ],
      "metadata": {
        "colab": {
          "base_uri": "https://localhost:8080/"
        },
        "id": "xRY2DBg8j7iD",
        "outputId": "1f23139a-aeb1-4e44-941e-0b76a02d5556"
      },
      "execution_count": null,
      "outputs": [
        {
          "output_type": "stream",
          "name": "stdout",
          "text": [
            "100\n",
            "200\n"
          ]
        }
      ]
    },
    {
      "cell_type": "code",
      "source": [
        "#scipy expects features in 'scipy sparse matrix'\n",
        "df_book_features = df_clean.pivot(\n",
        "    index='isbn',\n",
        "    columns='user',\n",
        "    values='rating'\n",
        ").fillna(0)\n",
        "print(df_book_features.head())\n",
        "mat_book_features = csr_matrix(df_book_features.values)\n",
        "\n",
        "#define model\n",
        "model_knn = NearestNeighbors(metric='cosine', algorithm='auto', n_neighbors=5, n_jobs=-1)\n",
        "\n",
        "#dictionary for converting between isbn and title, also find index of book in scipy sparse matrix (built from pivot) so we can reference it in model\n",
        "isbn_to_title = df_books.set_index('isbn').to_dict()['title']\n",
        "title_to_isbn = df_books.set_index('title').to_dict()['isbn']\n",
        "isbn_in_pivot = df_book_features.index.to_list()"
      ],
      "metadata": {
        "colab": {
          "base_uri": "https://localhost:8080/"
        },
        "id": "RYSRja3_OAAH",
        "outputId": "329da679-9fe0-49f6-aac5-c49cdcad2cbb"
      },
      "execution_count": null,
      "outputs": [
        {
          "output_type": "stream",
          "name": "stdout",
          "text": [
            "user        254     2276    2766    2977    3363    4017    4385    6242    \\\n",
            "isbn                                                                         \n",
            "002542730X     0.0     0.0     0.0     0.0     0.0     0.0     0.0     0.0   \n",
            "0060008032     0.0     0.0     0.0     0.0     0.0     0.0     0.0     0.0   \n",
            "0060096195     0.0     0.0     0.0     0.0     0.0     0.0     0.0     0.0   \n",
            "006016848X     0.0     0.0     0.0     0.0     0.0     0.0     0.0     0.0   \n",
            "0060173289     0.0     0.0     0.0     0.0     0.0     0.0     0.0     0.0   \n",
            "\n",
            "user        6251    6323    ...  274004  274061  274301  274308  274808  \\\n",
            "isbn                        ...                                           \n",
            "002542730X     0.0     0.0  ...     0.0     0.0     0.0     0.0     0.0   \n",
            "0060008032     0.0     0.0  ...     0.0     0.0     0.0     0.0     0.0   \n",
            "0060096195     0.0     0.0  ...     0.0     0.0     0.0     0.0     0.0   \n",
            "006016848X     0.0     0.0  ...     0.0     0.0     0.0     0.0     0.0   \n",
            "0060173289     0.0     0.0  ...     0.0     0.0     0.0     0.0     0.0   \n",
            "\n",
            "user        275970  277427  277478  277639  278418  \n",
            "isbn                                                \n",
            "002542730X     0.0    10.0     0.0     0.0     0.0  \n",
            "0060008032     0.0     0.0     0.0     0.0     0.0  \n",
            "0060096195     0.0     0.0     0.0     0.0     0.0  \n",
            "006016848X     0.0     0.0     0.0     0.0     0.0  \n",
            "0060173289     0.0     0.0     0.0     0.0     0.0  \n",
            "\n",
            "[5 rows x 888 columns]\n"
          ]
        }
      ]
    },
    {
      "cell_type": "code",
      "execution_count": null,
      "metadata": {
        "id": "f5ZUd-L1SQz7"
      },
      "outputs": [],
      "source": [
        "# function to return recommended books - this will be tested\n",
        "def get_recommends(book = \"\"):\n",
        "  #find index of book in scipy sparse matrix\n",
        "  isbn = title_to_isbn[book]\n",
        "  book_index = isbn_in_pivot.index(isbn)\n",
        "\n",
        "  #fit model to data\n",
        "  model_knn.fit(mat_book_features)\n",
        "  #find (n_neigbhors-1) nearest neighbors to book, returns their indices and distances\n",
        "  distance, index = model_knn.kneighbors(\n",
        "      mat_book_features[book_index],\n",
        "      n_neighbors=6\n",
        "  )\n",
        "\n",
        "  #convert knn data to lists\n",
        "  distances = distance.squeeze().tolist()\n",
        "  indices = index.squeeze().tolist()\n",
        "  distances.pop(0)\n",
        "  indices.pop(0)\n",
        "\n",
        "  #find isbn of index in scipy sparse matrix, convert to title\n",
        "  titles = []\n",
        "  for index in indices:\n",
        "    titles.append(isbn_to_title[isbn_in_pivot[index]])\n",
        "  recommended_books = [book]\n",
        "  #knn returned distances low-to-high, test expects distance high-to-low\n",
        "  titles.reverse()\n",
        "  distances.reverse()\n",
        "\n",
        "  #formatting for test\n",
        "  recommendations=[[],[],[],[],[]]\n",
        "  i = 0\n",
        "  j = 0\n",
        "  for x in titles:\n",
        "    recommendations[i].insert(0,x)\n",
        "    i+=1\n",
        "  for x in distances:\n",
        "    recommendations[j].insert(1,x)\n",
        "    j+=1\n",
        "\n",
        "  recommended_books=[book,recommendations]\n",
        "  return recommended_books"
      ]
    },
    {
      "cell_type": "code",
      "execution_count": null,
      "metadata": {
        "id": "jd2SLCh8oxMh",
        "colab": {
          "base_uri": "https://localhost:8080/"
        },
        "outputId": "9223f0bb-bccc-42ca-8adf-d29cfd826ee6"
      },
      "outputs": [
        {
          "output_type": "stream",
          "name": "stdout",
          "text": [
            "[\"Where the Heart Is (Oprah's Book Club (Paperback))\", [[\"I'll Be Seeing You\", 0.8016210794448853], ['The Weight of Water', 0.7708583474159241], ['The Surgeon', 0.7699410915374756], ['I Know This Much Is True', 0.7677075266838074], ['The Lovely Bones: A Novel', 0.7234864234924316]]]\n",
            "You passed the challenge! 🎉🎉🎉🎉🎉\n"
          ]
        }
      ],
      "source": [
        "books = get_recommends(\"Where the Heart Is (Oprah's Book Club (Paperback))\")\n",
        "print(books)\n",
        "\n",
        "def test_book_recommendation():\n",
        "  test_pass = True\n",
        "  recommends = get_recommends(\"Where the Heart Is (Oprah's Book Club (Paperback))\")\n",
        "  if recommends[0] != \"Where the Heart Is (Oprah's Book Club (Paperback))\":\n",
        "    test_pass = False\n",
        "  recommended_books = [\"I'll Be Seeing You\", 'The Weight of Water', 'The Surgeon', 'I Know This Much Is True']\n",
        "  recommended_books_dist = [0.8, 0.77, 0.77, 0.77]\n",
        "  for i in range(2):\n",
        "    if recommends[1][i][0] not in recommended_books:\n",
        "      test_pass = False\n",
        "    if abs(recommends[1][i][1] - recommended_books_dist[i]) >= 0.05:\n",
        "      test_pass = False\n",
        "  if test_pass:\n",
        "    print(\"You passed the challenge! 🎉🎉🎉🎉🎉\")\n",
        "  else:\n",
        "    print(\"You haven't passed yet. Keep trying!\")\n",
        "\n",
        "test_book_recommendation()"
      ]
    }
  ],
  "metadata": {
    "colab": {
      "provenance": [],
      "include_colab_link": true
    },
    "kernelspec": {
      "display_name": "Python 3",
      "language": "python",
      "name": "python3"
    },
    "language_info": {
      "codemirror_mode": {
        "name": "ipython",
        "version": 3
      },
      "file_extension": ".py",
      "mimetype": "text/x-python",
      "name": "python",
      "nbconvert_exporter": "python",
      "pygments_lexer": "ipython3",
      "version": "3.6.5"
    }
  },
  "nbformat": 4,
  "nbformat_minor": 0
}